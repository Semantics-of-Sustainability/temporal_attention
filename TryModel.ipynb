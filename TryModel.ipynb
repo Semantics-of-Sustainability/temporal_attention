{
 "cells": [
  {
   "cell_type": "markdown",
   "metadata": {},
   "source": [
    "## Try out model from TempoBert\n",
    "I think the `test_bert` module only works with the 'old' [tempobert](https://github.com/guyrosin/tempobert/) model, where the sentence was prepended with a token. The model [linked on github](https://github.com/guyrosin/temporal_attention/issues/1) is of type \"attention_double_time\". The tokenizer needs an extra argurment `time_id` which can take 2 values.\n"
   ]
  },
  {
   "cell_type": "code",
   "execution_count": 1,
   "metadata": {},
   "outputs": [],
   "source": [
    "from bert_model import BertModel\n",
    "from train_tempobert import ModelArguments\n",
    "from transformers import AutoModelForMaskedLM, pipeline"
   ]
  },
  {
   "cell_type": "code",
   "execution_count": 2,
   "metadata": {},
   "outputs": [],
   "source": [
    "import test_bert\n",
    "import hf_utils"
   ]
  },
  {
   "cell_type": "markdown",
   "metadata": {},
   "source": [
    "Load the model:"
   ]
  },
  {
   "cell_type": "code",
   "execution_count": 4,
   "metadata": {},
   "outputs": [],
   "source": [
    "hf_utils.prepare_tf_classes()\n",
    "model_name = 'temp_att_model_semeval_eng'\n",
    "model_args = ModelArguments(model_name_or_path=model_name)\n",
    "config_kwargs = {}\n",
    "model, tokenizer = hf_utils.load_pretrained_model(\n",
    "    model_args,\n",
    "    AutoModelForMaskedLM,\n",
    "    expect_times_in_model=True,\n",
    "    **config_kwargs,\n",
    ")"
   ]
  },
  {
   "cell_type": "code",
   "execution_count": 6,
   "metadata": {},
   "outputs": [
    {
     "data": {
      "text/plain": [
       "PreTrainedTokenizerFast(name_or_path='temp_att_model_semeval_eng', vocab_size=30522, model_max_len=512, is_fast=True, padding_side='right', special_tokens={'unk_token': '[UNK]', 'sep_token': '[SEP]', 'pad_token': '[PAD]', 'cls_token': '[CLS]', 'mask_token': '[MASK]'})"
      ]
     },
     "execution_count": 6,
     "metadata": {},
     "output_type": "execute_result"
    }
   ],
   "source": [
    "tokenizer"
   ]
  },
  {
   "cell_type": "markdown",
   "metadata": {},
   "source": [
    "We create a pipeline, but automatically calling the pipeline doesn't work because the tokenizer encoding function needs an extra argument `time_id`, so we create a manual function."
   ]
  },
  {
   "cell_type": "code",
   "execution_count": 7,
   "metadata": {},
   "outputs": [],
   "source": [
    "fill_mask_pipeline = pipeline(\"fill-mask\", model=model, tokenizer=tokenizer)"
   ]
  },
  {
   "cell_type": "code",
   "execution_count": null,
   "metadata": {},
   "outputs": [],
   "source": [
    "pipeline."
   ]
  },
  {
   "cell_type": "code",
   "execution_count": 37,
   "metadata": {},
   "outputs": [],
   "source": [
    "def run_pipeline(pipeline, sentence, time_id):\n",
    "    encoded_inputs = fill_mask_pipeline.tokenizer.encode_plus(sentence, time_id=time_id, return_tensors='pt')\n",
    "    output = fill_mask_pipeline.forward(encoded_inputs)\n",
    "    result = fill_mask_pipeline.postprocess(output)\n",
    "    return result"
   ]
  },
  {
   "cell_type": "code",
   "execution_count": 38,
   "metadata": {},
   "outputs": [
    {
     "data": {
      "text/plain": [
       "[{'sequence': 'now any behavior that would earn demerits for a boy scout seems. game.',\n",
       "  'score': 0.0629839077591896,\n",
       "  'token': 1012,\n",
       "  'token_str': '.'},\n",
       " {'sequence': 'now any behavior that would earn demerits for a boy scout seems \" game.',\n",
       "  'score': 0.018260018900036812,\n",
       "  'token': 1000,\n",
       "  'token_str': '\"'},\n",
       " {'sequence': 'now any behavior that would earn demerits for a boy scout seems then game.',\n",
       "  'score': 0.017460325732827187,\n",
       "  'token': 2059,\n",
       "  'token_str': 'then'},\n",
       " {'sequence': 'now any behavior that would earn demerits for a boy scout seems left game.',\n",
       "  'score': 0.014366024173796177,\n",
       "  'token': 2187,\n",
       "  'token_str': 'left'},\n",
       " {'sequence': \"now any behavior that would earn demerits for a boy scout seems'game.\",\n",
       "  'score': 0.013853857293725014,\n",
       "  'token': 1005,\n",
       "  'token_str': \"'\"}]"
      ]
     },
     "execution_count": 38,
     "metadata": {},
     "output_type": "execute_result"
    }
   ],
   "source": [
    "sentence = \"now any behavior that would earn demerits for a boy scout seems [MASK] game.\"\n",
    "run_pipeline(fill_mask_pipeline, sentence, \"1\")"
   ]
  },
  {
   "cell_type": "code",
   "execution_count": 39,
   "metadata": {},
   "outputs": [
    {
     "data": {
      "text/plain": [
       "[{'sequence': 'now any behavior that would earn demerits for a boy scout seems. game.',\n",
       "  'score': 0.05730462074279785,\n",
       "  'token': 1012,\n",
       "  'token_str': '.'},\n",
       " {'sequence': 'now any behavior that would earn demerits for a boy scout seems \" game.',\n",
       "  'score': 0.01933969184756279,\n",
       "  'token': 1000,\n",
       "  'token_str': '\"'},\n",
       " {'sequence': 'now any behavior that would earn demerits for a boy scout seems then game.',\n",
       "  'score': 0.01873614825308323,\n",
       "  'token': 2059,\n",
       "  'token_str': 'then'},\n",
       " {'sequence': 'now any behavior that would earn demerits for a boy scout seems left game.',\n",
       "  'score': 0.01754055730998516,\n",
       "  'token': 2187,\n",
       "  'token_str': 'left'},\n",
       " {'sequence': \"now any behavior that would earn demerits for a boy scout seems'game.\",\n",
       "  'score': 0.015870574861764908,\n",
       "  'token': 1005,\n",
       "  'token_str': \"'\"}]"
      ]
     },
     "execution_count": 39,
     "metadata": {},
     "output_type": "execute_result"
    }
   ],
   "source": [
    "run_pipeline(fill_mask_pipeline, sentence, \"2\")"
   ]
  },
  {
   "cell_type": "markdown",
   "metadata": {},
   "source": []
  }
 ],
 "metadata": {
  "kernelspec": {
   "display_name": "Python 3.8.13 ('tempo_att')",
   "language": "python",
   "name": "python3"
  },
  "language_info": {
   "codemirror_mode": {
    "name": "ipython",
    "version": 3
   },
   "file_extension": ".py",
   "mimetype": "text/x-python",
   "name": "python",
   "nbconvert_exporter": "python",
   "pygments_lexer": "ipython3",
   "version": "3.8.13"
  },
  "orig_nbformat": 4,
  "vscode": {
   "interpreter": {
    "hash": "13de6c7718113c92d8f75f925fea2af1ddf999e0dc4ea26e4b8fffb1d196338e"
   }
  }
 },
 "nbformat": 4,
 "nbformat_minor": 2
}
