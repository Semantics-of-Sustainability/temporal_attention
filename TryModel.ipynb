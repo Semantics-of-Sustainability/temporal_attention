{
 "cells": [
  {
   "cell_type": "markdown",
   "metadata": {},
   "source": [
    "## Try out model from TempoBert\n",
    "I think the `test_bert` module only works with the 'old' [tempobert](https://github.com/guyrosin/tempobert/) model, where the sentence was prepended with a token. The model [linked on github](https://github.com/guyrosin/temporal_attention/issues/1) is of type \"attention_double_time\". The tokenizer needs an extra argurment `time_id` which can take 2 values.\n"
   ]
  },
  {
   "cell_type": "code",
   "execution_count": 2,
   "metadata": {},
   "outputs": [
    {
     "name": "stderr",
     "output_type": "stream",
     "text": [
      "C:\\Users\\DafnevanKuppevelt\\AppData\\Roaming\\Python\\Python38\\site-packages\\scipy\\__init__.py:146: UserWarning: A NumPy version >=1.16.5 and <1.23.0 is required for this version of SciPy (detected version 1.23.1\n",
      "  warnings.warn(f\"A NumPy version >={np_minversion} and <{np_maxversion}\"\n"
     ]
    }
   ],
   "source": [
    "from bert_model import BertModel\n",
    "from train_tempobert import ModelArguments\n",
    "from transformers import AutoModelForMaskedLM, pipeline\n",
    "\n",
    "from tqdm import tqdm"
   ]
  },
  {
   "cell_type": "code",
   "execution_count": 3,
   "metadata": {},
   "outputs": [],
   "source": [
    "import test_bert\n",
    "import hf_utils"
   ]
  },
  {
   "cell_type": "markdown",
   "metadata": {},
   "source": [
    "Load the model:"
   ]
  },
  {
   "cell_type": "code",
   "execution_count": 4,
   "metadata": {},
   "outputs": [],
   "source": [
    "hf_utils.prepare_tf_classes()\n",
    "model_name = 'temp_att_model_semeval_eng'\n",
    "model_args = ModelArguments(model_name_or_path=model_name)\n",
    "config_kwargs = {}\n",
    "model, tokenizer = hf_utils.load_pretrained_model(\n",
    "    model_args,\n",
    "    AutoModelForMaskedLM,\n",
    "    expect_times_in_model=True,\n",
    "    **config_kwargs,\n",
    ")"
   ]
  },
  {
   "cell_type": "code",
   "execution_count": 5,
   "metadata": {},
   "outputs": [
    {
     "data": {
      "text/plain": [
       "PreTrainedTokenizerFast(name_or_path='temp_att_model_semeval_eng', vocab_size=30522, model_max_len=512, is_fast=True, padding_side='right', special_tokens={'unk_token': '[UNK]', 'sep_token': '[SEP]', 'pad_token': '[PAD]', 'cls_token': '[CLS]', 'mask_token': '[MASK]'})"
      ]
     },
     "execution_count": 5,
     "metadata": {},
     "output_type": "execute_result"
    }
   ],
   "source": [
    "tokenizer"
   ]
  },
  {
   "cell_type": "markdown",
   "metadata": {},
   "source": [
    "We create a pipeline, but automatically calling the pipeline doesn't work because the tokenizer encoding function needs an extra argument `time_id`, so we create a manual function."
   ]
  },
  {
   "cell_type": "code",
   "execution_count": 6,
   "metadata": {},
   "outputs": [],
   "source": [
    "fill_mask_pipeline = pipeline(\"fill-mask\", model=model, tokenizer=tokenizer)"
   ]
  },
  {
   "cell_type": "code",
   "execution_count": 7,
   "metadata": {},
   "outputs": [],
   "source": [
    "def run_pipeline(pipeline, sentences, time_id):\n",
    "    if type(sentences)==str:\n",
    "        encoded_inputs = pipeline.tokenizer.encode_plus(sentences, time_id=time_id, return_tensors='pt')\n",
    "    else:\n",
    "        encoded_inputs = pipeline.tokenizer.batch_encode_plus(sentences, batch_time_id=time_id*len(sentences), return_tensors='pt', padding=True)\n",
    "    output = pipeline.forward(encoded_inputs)\n",
    "    result = pipeline.postprocess(output)\n",
    "    return result"
   ]
  },
  {
   "cell_type": "code",
   "execution_count": 8,
   "metadata": {},
   "outputs": [
    {
     "data": {
      "text/plain": [
       "[{'sequence': 'it is a national characteristic of the englishman that he regards no athletic, open - air sport as worthy of the name unless it involves a good deal of danger and a. amount of physical misery.',\n",
       "  'score': 0.05581890419125557,\n",
       "  'token': 1012,\n",
       "  'token_str': '.'},\n",
       " {'sequence': 'it is a national characteristic of the englishman that he regards no athletic, open - air sport as worthy of the name unless it involves a good deal of danger and a code amount of physical misery.',\n",
       "  'score': 0.02099780924618244,\n",
       "  'token': 3642,\n",
       "  'token_str': 'code'},\n",
       " {'sequence': 'it is a national characteristic of the englishman that he regards no athletic, open - air sport as worthy of the name unless it involves a good deal of danger and a one amount of physical misery.',\n",
       "  'score': 0.016581013798713684,\n",
       "  'token': 2028,\n",
       "  'token_str': 'one'},\n",
       " {'sequence': 'it is a national characteristic of the englishman that he regards no athletic, open - air sport as worthy of the name unless it involves a good deal of danger and a of amount of physical misery.',\n",
       "  'score': 0.01425748597830534,\n",
       "  'token': 1997,\n",
       "  'token_str': 'of'},\n",
       " {'sequence': 'it is a national characteristic of the englishman that he regards no athletic, open - air sport as worthy of the name unless it involves a good deal of danger and a strip amount of physical misery.',\n",
       "  'score': 0.010697582736611366,\n",
       "  'token': 6167,\n",
       "  'token_str': 'strip'}]"
      ]
     },
     "execution_count": 8,
     "metadata": {},
     "output_type": "execute_result"
    }
   ],
   "source": [
    "sentence = \"It is a national characteristic of the Englishman that he regards no athletic , open-air sport as worthy of the name unless it involves a good deal of danger and a [MASK] amount of physical misery .\"\n",
    "run_pipeline(fill_mask_pipeline, sentence, \"1\")"
   ]
  },
  {
   "cell_type": "code",
   "execution_count": 9,
   "metadata": {},
   "outputs": [
    {
     "data": {
      "text/plain": [
       "[{'sequence': 'it is a national characteristic of the englishman that he regards no athletic, open - air sport as worthy of the name unless it involves a good deal of danger and a. amount of physical misery.',\n",
       "  'score': 0.06356566399335861,\n",
       "  'token': 1012,\n",
       "  'token_str': '.'},\n",
       " {'sequence': 'it is a national characteristic of the englishman that he regards no athletic, open - air sport as worthy of the name unless it involves a good deal of danger and a code amount of physical misery.',\n",
       "  'score': 0.020715968683362007,\n",
       "  'token': 3642,\n",
       "  'token_str': 'code'},\n",
       " {'sequence': 'it is a national characteristic of the englishman that he regards no athletic, open - air sport as worthy of the name unless it involves a good deal of danger and a one amount of physical misery.',\n",
       "  'score': 0.020477255806326866,\n",
       "  'token': 2028,\n",
       "  'token_str': 'one'},\n",
       " {'sequence': 'it is a national characteristic of the englishman that he regards no athletic, open - air sport as worthy of the name unless it involves a good deal of danger and a of amount of physical misery.',\n",
       "  'score': 0.013220356777310371,\n",
       "  'token': 1997,\n",
       "  'token_str': 'of'},\n",
       " {'sequence': 'it is a national characteristic of the englishman that he regards no athletic, open - air sport as worthy of the name unless it involves a good deal of danger and a strip amount of physical misery.',\n",
       "  'score': 0.012399331666529179,\n",
       "  'token': 6167,\n",
       "  'token_str': 'strip'}]"
      ]
     },
     "execution_count": 9,
     "metadata": {},
     "output_type": "execute_result"
    }
   ],
   "source": [
    "run_pipeline(fill_mask_pipeline, sentence, \"2\")"
   ]
  },
  {
   "cell_type": "markdown",
   "metadata": {},
   "source": [
    "## For list of sentences\n"
   ]
  },
  {
   "cell_type": "code",
   "execution_count": 10,
   "metadata": {},
   "outputs": [],
   "source": [
    "import pandas as pd\n",
    "\n",
    "datapath = '../sentences_out'\n",
    "\n",
    "term = 'fair'\n",
    "df_sentences = pd.read_csv(os.path.join(datapath, term+'.csv'))\n",
    "df_sentences['sentence_lc'] = df_sentences['sentence'].str.lower()"
   ]
  },
  {
   "cell_type": "code",
   "execution_count": 11,
   "metadata": {},
   "outputs": [
    {
     "data": {
      "text/plain": [
       "<AxesSubplot:>"
      ]
     },
     "execution_count": 11,
     "metadata": {},
     "output_type": "execute_result"
    },
    {
     "data": {
      "image/png": "[encoded data removed]",
      "text/plain": [
       "<Figure size 432x288 with 1 Axes>"
      ]
     },
     "metadata": {
      "needs_background": "light"
     },
     "output_type": "display_data"
    }
   ],
   "source": [
    "df_sentences['year'].hist()"
   ]
  },
  {
   "cell_type": "code",
   "execution_count": 12,
   "metadata": {},
   "outputs": [
    {
     "data": {
      "text/plain": [
       "<AxesSubplot:>"
      ]
     },
     "execution_count": 12,
     "metadata": {},
     "output_type": "execute_result"
    },
    {
     "data": {
      "image/png": "[encoded data removed]",
      "text/plain": [
       "<Figure size 432x288 with 1 Axes>"
      ]
     },
     "metadata": {
      "needs_background": "light"
     },
     "output_type": "display_data"
    }
   ],
   "source": [
    "df_sentences['year'].value_counts(sort=False).plot(kind='bar')"
   ]
  },
  {
   "cell_type": "code",
   "execution_count": 13,
   "metadata": {},
   "outputs": [
    {
     "data": {
      "text/plain": [
       "NaN    254\n",
       "1      102\n",
       "2       69\n",
       "Name: time_id, dtype: int64"
      ]
     },
     "execution_count": 13,
     "metadata": {},
     "output_type": "execute_result"
    }
   ],
   "source": [
    "df_sentences['time_id'] = ['1' if year <= 1860 else None for year in df_sentences['year']]\n",
    "df_sentences.loc[df_sentences['year'] >= 1960, 'time_id'] = '2'\n",
    "df_sentences['time_id'].value_counts(dropna=False)"
   ]
  },
  {
   "cell_type": "code",
   "execution_count": 14,
   "metadata": {},
   "outputs": [],
   "source": [
    "pipeline_embed = pipeline(\"feature-extraction\", \n",
    "                    model=model, \n",
    "                    tokenizer=tokenizer)"
   ]
  },
  {
   "cell_type": "code",
   "execution_count": 15,
   "metadata": {},
   "outputs": [],
   "source": [
    "sentences_1 = list(df_sentences[df_sentences.time_id=='1']['sentence'])\n",
    "sentences_2 = list(df_sentences[df_sentences.time_id=='2']['sentence'])"
   ]
  },
  {
   "cell_type": "code",
   "execution_count": 16,
   "metadata": {},
   "outputs": [],
   "source": [
    "embeddings_time1 = run_pipeline(pipeline_embed, \n",
    "                                sentences_1, \n",
    "                                '1')"
   ]
  },
  {
   "cell_type": "code",
   "execution_count": 17,
   "metadata": {},
   "outputs": [
    {
     "data": {
      "text/plain": [
       "(102, 102)"
      ]
     },
     "execution_count": 17,
     "metadata": {},
     "output_type": "execute_result"
    }
   ],
   "source": [
    "len(embeddings_time1), len(sentences_1)"
   ]
  },
  {
   "cell_type": "code",
   "execution_count": 18,
   "metadata": {},
   "outputs": [],
   "source": [
    "embeddings_time2 = run_pipeline(pipeline_embed, \n",
    "                                sentences_2, \n",
    "                                '2')"
   ]
  },
  {
   "cell_type": "code",
   "execution_count": 19,
   "metadata": {},
   "outputs": [],
   "source": [
    "import numpy as np\n",
    "\n",
    "def get_word_embeddings(pipeline, embedding, sent, query):\n",
    "    \"\"\"\n",
    "    Only retrieve the embeddings for the tokens that match the query\n",
    "    Does not yet handle the case where query is split up in tokenization.\n",
    "    \"\"\"\n",
    "    token_ids = pipeline.tokenizer(sent, time_id='1')\n",
    "    tokens = pipeline.tokenizer.convert_ids_to_tokens(token_ids['input_ids'])\n",
    "    query_embeddings = np.array([embedding[i] for i,tok in enumerate(tokens) if tok==query])\n",
    "    return list(query_embeddings)"
   ]
  },
  {
   "cell_type": "code",
   "execution_count": 20,
   "metadata": {},
   "outputs": [],
   "source": [
    "embeddings_time1"
   ]
  },
  {
   "cell_type": "code",
   "execution_count": null,
   "metadata": {},
   "outputs": [
    {
     "name": "stderr",
     "output_type": "stream",
     "text": [
      "0it [00:00, ?it/s]\n"
     ]
    }
   ],
   "source": [
    "\n",
    "# df_embeddings = pd.DataFrame()\n",
    "# time1_idx = 0\n",
    "# time2_idx = 0\n",
    "\n",
    "# for _, row in tqdm(df_sentences.iterrows()):\n",
    "#     if row['time_id'] == '1':\n",
    "#         emb = get_word_embeddings(pipeline_embed, embeddings_time1[time1_idx], row['sentence'], term)\n",
    "#         time1_idx +=1\n",
    "#     elif row['time_id'] == 2:\n",
    "#         emb = get_word_embeddings(pipeline_embed, embeddings_time2[time2_idx], row['sentence'], term)\n",
    "#         time2_idx +=1\n",
    "#     else:\n",
    "#         emb = None\n",
    "#     df_embeddings = df_embeddings.append(pd.DataFrame({\n",
    "#         'sentence': row['sentence'],\n",
    "#         'year': row['year'],\n",
    "#         'genre': row['genre'],\n",
    "#         'id': row['id'],\n",
    "#         'embedding': emb}))"
   ]
  },
  {
   "cell_type": "code",
   "execution_count": null,
   "metadata": {},
   "outputs": [],
   "source": [
    "df_embeddings.head()"
   ]
  },
  {
   "cell_type": "code",
   "execution_count": null,
   "metadata": {},
   "outputs": [],
   "source": []
  }
 ],
 "metadata": {
  "kernelspec": {
   "display_name": "Python 3.8.13 ('tempo_att')",
   "language": "python",
   "name": "python3"
  },
  "language_info": {
   "codemirror_mode": {
    "name": "ipython",
    "version": 3
   },
   "file_extension": ".py",
   "mimetype": "text/x-python",
   "name": "python",
   "nbconvert_exporter": "python",
   "pygments_lexer": "ipython3",
   "version": "3.8.13"
  },
  "orig_nbformat": 4,
  "vscode": {
   "interpreter": {
    "hash": "13de6c7718113c92d8f75f925fea2af1ddf999e0dc4ea26e4b8fffb1d196338e"
   }
  }
 },
 "nbformat": 4,
 "nbformat_minor": 2
}
