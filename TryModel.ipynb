{
 "cells": [
  {
   "cell_type": "markdown",
   "metadata": {},
   "source": [
    "## Try out model from TempoBert\n",
    "I think the `test_bert` module only works with the 'old' [tempobert](https://github.com/guyrosin/tempobert/) model, where the sentence was prepended with a token. The model [linked on github](https://github.com/guyrosin/temporal_attention/issues/1) is of type \"attention_double_time\". The tokenizer needs an extra argurment `time_id` which can take 2 values.\n"
   ]
  },
  {
   "cell_type": "code",
   "execution_count": 51,
   "metadata": {},
   "outputs": [],
   "source": [
    "from bert_model import BertModel\n",
    "from train_tempobert import ModelArguments\n",
    "from transformers import AutoModelForMaskedLM, pipeline\n",
    "\n",
    "from tqdm import tqdm\n",
    "\n",
    "import matplotlib.pyplot as plt"
   ]
  },
  {
   "cell_type": "code",
   "execution_count": 2,
   "metadata": {},
   "outputs": [],
   "source": [
    "import test_bert\n",
    "import hf_utils"
   ]
  },
  {
   "cell_type": "markdown",
   "metadata": {},
   "source": [
    "Load the model:"
   ]
  },
  {
   "cell_type": "code",
   "execution_count": 3,
   "metadata": {},
   "outputs": [],
   "source": [
    "hf_utils.prepare_tf_classes()\n",
    "model_name = 'temp_att_model_semeval_eng'\n",
    "model_args = ModelArguments(model_name_or_path=model_name)\n",
    "config_kwargs = {}\n",
    "model, tokenizer = hf_utils.load_pretrained_model(\n",
    "    model_args,\n",
    "    AutoModelForMaskedLM,\n",
    "    expect_times_in_model=True,\n",
    "    **config_kwargs,\n",
    ")"
   ]
  },
  {
   "cell_type": "code",
   "execution_count": 5,
   "metadata": {},
   "outputs": [
    {
     "data": {
      "text/plain": [
       "PreTrainedTokenizerFast(name_or_path='temp_att_model_semeval_eng', vocab_size=30522, model_max_len=512, is_fast=True, padding_side='right', special_tokens={'unk_token': '[UNK]', 'sep_token': '[SEP]', 'pad_token': '[PAD]', 'cls_token': '[CLS]', 'mask_token': '[MASK]'})"
      ]
     },
     "execution_count": 5,
     "metadata": {},
     "output_type": "execute_result"
    }
   ],
   "source": [
    "tokenizer"
   ]
  },
  {
   "cell_type": "markdown",
   "metadata": {},
   "source": [
    "We create a pipeline, but automatically calling the pipeline doesn't work because the tokenizer encoding function needs an extra argument `time_id`, so we create a manual function."
   ]
  },
  {
   "cell_type": "code",
   "execution_count": 6,
   "metadata": {},
   "outputs": [],
   "source": [
    "fill_mask_pipeline = pipeline(\"fill-mask\", model=model, tokenizer=tokenizer)"
   ]
  },
  {
   "cell_type": "code",
   "execution_count": 7,
   "metadata": {},
   "outputs": [],
   "source": [
    "def run_pipeline(pipeline, sentences, time_id):\n",
    "    if type(sentences)==str:\n",
    "        encoded_inputs = pipeline.tokenizer.encode_plus(sentences, time_id=time_id, return_tensors='pt')\n",
    "    else:\n",
    "        encoded_inputs = pipeline.tokenizer.batch_encode_plus(sentences, batch_time_id=time_id*len(sentences), return_tensors='pt', padding=True)\n",
    "    output = pipeline.forward(encoded_inputs)\n",
    "    result = pipeline.postprocess(output)\n",
    "    return result"
   ]
  },
  {
   "cell_type": "code",
   "execution_count": 8,
   "metadata": {},
   "outputs": [
    {
     "data": {
      "text/plain": [
       "[{'sequence': 'it is a national characteristic of the englishman that he regards no athletic, open - air sport as worthy of the name unless it involves a good deal of danger and a. amount of physical misery.',\n",
       "  'score': 0.05581890419125557,\n",
       "  'token': 1012,\n",
       "  'token_str': '.'},\n",
       " {'sequence': 'it is a national characteristic of the englishman that he regards no athletic, open - air sport as worthy of the name unless it involves a good deal of danger and a code amount of physical misery.',\n",
       "  'score': 0.02099780924618244,\n",
       "  'token': 3642,\n",
       "  'token_str': 'code'},\n",
       " {'sequence': 'it is a national characteristic of the englishman that he regards no athletic, open - air sport as worthy of the name unless it involves a good deal of danger and a one amount of physical misery.',\n",
       "  'score': 0.016581013798713684,\n",
       "  'token': 2028,\n",
       "  'token_str': 'one'},\n",
       " {'sequence': 'it is a national characteristic of the englishman that he regards no athletic, open - air sport as worthy of the name unless it involves a good deal of danger and a of amount of physical misery.',\n",
       "  'score': 0.01425748597830534,\n",
       "  'token': 1997,\n",
       "  'token_str': 'of'},\n",
       " {'sequence': 'it is a national characteristic of the englishman that he regards no athletic, open - air sport as worthy of the name unless it involves a good deal of danger and a strip amount of physical misery.',\n",
       "  'score': 0.010697582736611366,\n",
       "  'token': 6167,\n",
       "  'token_str': 'strip'}]"
      ]
     },
     "execution_count": 8,
     "metadata": {},
     "output_type": "execute_result"
    }
   ],
   "source": [
    "sentence = \"It is a national characteristic of the Englishman that he regards no athletic , open-air sport as worthy of the name unless it involves a good deal of danger and a [MASK] amount of physical misery .\"\n",
    "run_pipeline(fill_mask_pipeline, sentence, \"1\")"
   ]
  },
  {
   "cell_type": "code",
   "execution_count": 9,
   "metadata": {},
   "outputs": [
    {
     "data": {
      "text/plain": [
       "[{'sequence': 'it is a national characteristic of the englishman that he regards no athletic, open - air sport as worthy of the name unless it involves a good deal of danger and a. amount of physical misery.',\n",
       "  'score': 0.06356566399335861,\n",
       "  'token': 1012,\n",
       "  'token_str': '.'},\n",
       " {'sequence': 'it is a national characteristic of the englishman that he regards no athletic, open - air sport as worthy of the name unless it involves a good deal of danger and a code amount of physical misery.',\n",
       "  'score': 0.020715968683362007,\n",
       "  'token': 3642,\n",
       "  'token_str': 'code'},\n",
       " {'sequence': 'it is a national characteristic of the englishman that he regards no athletic, open - air sport as worthy of the name unless it involves a good deal of danger and a one amount of physical misery.',\n",
       "  'score': 0.020477255806326866,\n",
       "  'token': 2028,\n",
       "  'token_str': 'one'},\n",
       " {'sequence': 'it is a national characteristic of the englishman that he regards no athletic, open - air sport as worthy of the name unless it involves a good deal of danger and a of amount of physical misery.',\n",
       "  'score': 0.013220356777310371,\n",
       "  'token': 1997,\n",
       "  'token_str': 'of'},\n",
       " {'sequence': 'it is a national characteristic of the englishman that he regards no athletic, open - air sport as worthy of the name unless it involves a good deal of danger and a strip amount of physical misery.',\n",
       "  'score': 0.012399331666529179,\n",
       "  'token': 6167,\n",
       "  'token_str': 'strip'}]"
      ]
     },
     "execution_count": 9,
     "metadata": {},
     "output_type": "execute_result"
    }
   ],
   "source": [
    "run_pipeline(fill_mask_pipeline, sentence, \"2\")"
   ]
  },
  {
   "cell_type": "markdown",
   "metadata": {},
   "source": [
    "## For list of sentences\n"
   ]
  },
  {
   "cell_type": "code",
   "execution_count": 4,
   "metadata": {},
   "outputs": [],
   "source": [
    "import pandas as pd\n",
    "\n",
    "datapath = '../sentences_out'\n",
    "\n",
    "term = 'fair'\n",
    "df_sentences = pd.read_csv(os.path.join(datapath, term+'.csv'))\n",
    "df_sentences['sentence_lc'] = df_sentences['sentence'].str.lower()"
   ]
  },
  {
   "cell_type": "code",
   "execution_count": 5,
   "metadata": {},
   "outputs": [
    {
     "data": {
      "text/plain": [
       "<AxesSubplot:>"
      ]
     },
     "execution_count": 5,
     "metadata": {},
     "output_type": "execute_result"
    },
    {
     "data": {
      "image/png": "[encoded data removed]",
      "text/plain": [
       "<Figure size 432x288 with 1 Axes>"
      ]
     },
     "metadata": {
      "needs_background": "light"
     },
     "output_type": "display_data"
    }
   ],
   "source": [
    "df_sentences['year'].hist()"
   ]
  },
  {
   "cell_type": "code",
   "execution_count": 5,
   "metadata": {},
   "outputs": [
    {
     "data": {
      "text/plain": [
       "NaN    254\n",
       "1      102\n",
       "2       69\n",
       "Name: time_id, dtype: int64"
      ]
     },
     "execution_count": 5,
     "metadata": {},
     "output_type": "execute_result"
    }
   ],
   "source": [
    "df_sentences['time_id'] = ['1' if year <= 1860 else None for year in df_sentences['year']]\n",
    "df_sentences.loc[df_sentences['year'] >= 1960, 'time_id'] = '2'\n",
    "df_sentences['time_id'].value_counts(dropna=False)"
   ]
  },
  {
   "cell_type": "code",
   "execution_count": 6,
   "metadata": {},
   "outputs": [],
   "source": [
    "sentences_1 = df_sentences[df_sentences.time_id=='1']['sentence']\n",
    "sentences_2 = df_sentences[df_sentences.time_id=='2']['sentence']"
   ]
  },
  {
   "cell_type": "markdown",
   "metadata": {},
   "source": [
    "Note that the term may appear multiple times in one sentence. `model.embed_word` retrieves all embeddings of all appearences, so the total number of embeddings may be larger than the number of sentences. We want to take the average per sentence."
   ]
  },
  {
   "cell_type": "code",
   "execution_count": 7,
   "metadata": {},
   "outputs": [],
   "source": [
    "from semantic_change_detection import get_embedding\n",
    "\n",
    "tester = test_bert.Tester(model_name, preload=True)\n",
    "model = tester.bert_models[0]\n"
   ]
  },
  {
   "cell_type": "code",
   "execution_count": 41,
   "metadata": {},
   "outputs": [],
   "source": [
    "embeddings = []\n",
    "for i, row in df_sentences.iterrows():\n",
    "    if row['time_id'] is not None:\n",
    "        emb = get_embedding(\n",
    "            model,\n",
    "            [row['sentence_lc']],\n",
    "            term,\n",
    "            time=str(row['time_id'])).numpy()\n",
    "    else:\n",
    "        emb = None\n",
    "    embeddings.append(emb)"
   ]
  },
  {
   "cell_type": "code",
   "execution_count": 42,
   "metadata": {},
   "outputs": [],
   "source": [
    "df_sentences['embedding'] = embeddings"
   ]
  },
  {
   "cell_type": "code",
   "execution_count": 44,
   "metadata": {},
   "outputs": [],
   "source": [
    "from sklearn.decomposition import PCA\n",
    "import numpy as np\n",
    "pca = PCA(n_components=2)\n"
   ]
  },
  {
   "cell_type": "code",
   "execution_count": 49,
   "metadata": {},
   "outputs": [
    {
     "data": {
      "text/plain": [
       "(171, 768)"
      ]
     },
     "execution_count": 49,
     "metadata": {},
     "output_type": "execute_result"
    }
   ],
   "source": [
    "df_embeddings = df_sentences[~df_sentences['embedding'].isna()]\n",
    "X = np.array([e for e in df_embeddings['embedding']])\n",
    "X.shape"
   ]
  },
  {
   "cell_type": "code",
   "execution_count": 50,
   "metadata": {},
   "outputs": [
    {
     "name": "stderr",
     "output_type": "stream",
     "text": [
      "C:\\Users\\DafnevanKuppevelt\\AppData\\Local\\Temp\\ipykernel_15688\\806366345.py:2: SettingWithCopyWarning: \n",
      "A value is trying to be set on a copy of a slice from a DataFrame.\n",
      "Try using .loc[row_indexer,col_indexer] = value instead\n",
      "\n",
      "See the caveats in the documentation: https://pandas.pydata.org/pandas-docs/stable/user_guide/indexing.html#returning-a-view-versus-a-copy\n",
      "  df_embeddings['pca1'] = X_pca[:,0]\n",
      "C:\\Users\\DafnevanKuppevelt\\AppData\\Local\\Temp\\ipykernel_15688\\806366345.py:3: SettingWithCopyWarning: \n",
      "A value is trying to be set on a copy of a slice from a DataFrame.\n",
      "Try using .loc[row_indexer,col_indexer] = value instead\n",
      "\n",
      "See the caveats in the documentation: https://pandas.pydata.org/pandas-docs/stable/user_guide/indexing.html#returning-a-view-versus-a-copy\n",
      "  df_embeddings['pca2'] = X_pca[:,1]\n"
     ]
    }
   ],
   "source": [
    "X_pca = pca.fit_transform(X)\n",
    "df_embeddings['pca1'] = X_pca[:,0]\n",
    "df_embeddings['pca2'] = X_pca[:,1]"
   ]
  },
  {
   "cell_type": "code",
   "execution_count": 52,
   "metadata": {},
   "outputs": [
    {
     "data": {
      "text/plain": [
       "Text(0.5, 1.0, 'PCA colored per time_id')"
      ]
     },
     "execution_count": 52,
     "metadata": {},
     "output_type": "execute_result"
    },
    {
     "data": {
      "image/png": "[encoded data removed]",
      "text/plain": [
       "<Figure size 432x288 with 1 Axes>"
      ]
     },
     "metadata": {
      "needs_background": "light"
     },
     "output_type": "display_data"
    }
   ],
   "source": [
    "for key, group in df_embeddings.groupby(['time_id']):\n",
    "    plt.plot(group.pca1, group.pca2, 'o', alpha=0.7, label=key)\n",
    "plt.legend()\n",
    "plt.xlabel('PCA 1')\n",
    "plt.ylabel('PCA 2')\n",
    "plt.title(\"PCA colored per time_id\")"
   ]
  },
  {
   "cell_type": "code",
   "execution_count": 53,
   "metadata": {},
   "outputs": [],
   "source": [
    "df_embeddings.to_csv('../sentences_out/{}_embedded_temporal_attention.csv'.format(term), index=False)"
   ]
  },
  {
   "cell_type": "code",
   "execution_count": null,
   "metadata": {},
   "outputs": [],
   "source": []
  }
 ],
 "metadata": {
  "kernelspec": {
   "display_name": "Python 3.8.13 ('tempo_att')",
   "language": "python",
   "name": "python3"
  },
  "language_info": {
   "codemirror_mode": {
    "name": "ipython",
    "version": 3
   },
   "file_extension": ".py",
   "mimetype": "text/x-python",
   "name": "python",
   "nbconvert_exporter": "python",
   "pygments_lexer": "ipython3",
   "version": "3.8.13"
  },
  "orig_nbformat": 4,
  "vscode": {
   "interpreter": {
    "hash": "13de6c7718113c92d8f75f925fea2af1ddf999e0dc4ea26e4b8fffb1d196338e"
   }
  }
 },
 "nbformat": 4,
 "nbformat_minor": 2
}
